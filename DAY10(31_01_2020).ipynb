{
  "nbformat": 4,
  "nbformat_minor": 0,
  "metadata": {
    "colab": {
      "name": "DAY10(31-01-2020).ipynb",
      "provenance": [],
      "authorship_tag": "ABX9TyP5e/23tihF8g1iosXep2eG",
      "include_colab_link": true
    },
    "kernelspec": {
      "name": "python3",
      "display_name": "Python 3"
    }
  },
  "cells": [
    {
      "cell_type": "markdown",
      "metadata": {
        "id": "view-in-github",
        "colab_type": "text"
      },
      "source": [
        "<a href=\"https://colab.research.google.com/github/Likhithaguggilla805/jntua-python/blob/master/DAY10(31_01_2020).ipynb\" target=\"_parent\"><img src=\"https://colab.research.google.com/assets/colab-badge.svg\" alt=\"Open In Colab\"/></a>"
      ]
    },
    {
      "cell_type": "markdown",
      "metadata": {
        "id": "caiYNT0IxORY",
        "colab_type": "text"
      },
      "source": [
        "# LOOPS\n",
        "- While loop\n",
        "- For loop"
      ]
    },
    {
      "cell_type": "code",
      "metadata": {
        "id": "5uBdT5aRxa5I",
        "colab_type": "code",
        "colab": {
          "base_uri": "https://localhost:8080/",
          "height": 204
        },
        "outputId": "5188960a-fd82-43d7-8b7a-aaa245a603c3"
      },
      "source": [
        "# print numbers from 1 to n\n",
        "n = int(input(\"enter a numer\"))\n",
        "i = 1\n",
        "while i<=n:\n",
        "  print(i)\n",
        "  i = i+1"
      ],
      "execution_count": 6,
      "outputs": [
        {
          "output_type": "stream",
          "text": [
            "enter a numer10\n",
            "1\n",
            "2\n",
            "3\n",
            "4\n",
            "5\n",
            "6\n",
            "7\n",
            "8\n",
            "9\n",
            "10\n"
          ],
          "name": "stdout"
        }
      ]
    },
    {
      "cell_type": "code",
      "metadata": {
        "id": "dwu4AizyyZEd",
        "colab_type": "code",
        "colab": {
          "base_uri": "https://localhost:8080/",
          "height": 51
        },
        "outputId": "1ae8c1e9-20e2-4056-924a-0de8642d056d"
      },
      "source": [
        "# print numbers from 1 to n\n",
        "n = int(input(\"enter a number\"))\n",
        "i = 1\n",
        "while i<=n:\n",
        "  print(i,end = \"  \")\n",
        "  i=i+1"
      ],
      "execution_count": 7,
      "outputs": [
        {
          "output_type": "stream",
          "text": [
            "enter a number12\n",
            "1  2  3  4  5  6  7  8  9  10  11  12  "
          ],
          "name": "stdout"
        }
      ]
    },
    {
      "cell_type": "code",
      "metadata": {
        "id": "cZ0FW5qKzLPr",
        "colab_type": "code",
        "colab": {
          "base_uri": "https://localhost:8080/",
          "height": 51
        },
        "outputId": "1f711a69-1642-44ae-8a35-0c82ffe09448"
      },
      "source": [
        "# sum of even numbers\n",
        "n = int(input(\"enter a number\"))\n",
        "i=0\n",
        "sum=0\n",
        "while i<=n:\n",
        "      sum=sum+i\n",
        "      i=i+2\n",
        "print(sum)\n",
        "  \n",
        "  "
      ],
      "execution_count": 23,
      "outputs": [
        {
          "output_type": "stream",
          "text": [
            "enter a number10\n",
            "30\n"
          ],
          "name": "stdout"
        }
      ]
    },
    {
      "cell_type": "code",
      "metadata": {
        "id": "T4Nh3wc72GcW",
        "colab_type": "code",
        "colab": {
          "base_uri": "https://localhost:8080/",
          "height": 51
        },
        "outputId": "60f89323-b408-49e3-fdb2-2e7027ade0f0"
      },
      "source": [
        "# palindrome\n",
        "n = int(input(\"enter a number\"))\n",
        "rem=0\n",
        "num=0\n",
        "while n>0:\n",
        "     rem=n%10\n",
        "     num=num*10+rem\n",
        "     n=n//10\n",
        "print(num)"
      ],
      "execution_count": 31,
      "outputs": [
        {
          "output_type": "stream",
          "text": [
            "enter a number123\n",
            "321\n"
          ],
          "name": "stdout"
        }
      ]
    },
    {
      "cell_type": "markdown",
      "metadata": {
        "id": "JEqMVr1384mg",
        "colab_type": "text"
      },
      "source": [
        "# FUNCTIONAL PROGRAMMING\n",
        "- Simple\n",
        "- easy to understand\n",
        "- better reuseability\n",
        "- lengthy program will be divided into subprograms"
      ]
    },
    {
      "cell_type": "code",
      "metadata": {
        "id": "bZJKKhlJ9Y43",
        "colab_type": "code",
        "colab": {
          "base_uri": "https://localhost:8080/",
          "height": 34
        },
        "outputId": "f98eec6f-22d6-4bde-c5fb-2d82868224d4"
      },
      "source": [
        "\n",
        "# print sum of even digits\n",
        "# input:1234\n",
        "# output (2+4=6)\n",
        "def sumofevendigits(n):\n",
        "    s=0\n",
        "    while n!=0:\n",
        "      r=n%10\n",
        "      if r%2==0:\n",
        "         s=s+r\n",
        "      n=n//10\n",
        "    return s\n",
        "sumofevendigits(1234568)\n",
        " "
      ],
      "execution_count": 46,
      "outputs": [
        {
          "output_type": "execute_result",
          "data": {
            "text/plain": [
              "20"
            ]
          },
          "metadata": {
            "tags": []
          },
          "execution_count": 46
        }
      ]
    },
    {
      "cell_type": "code",
      "metadata": {
        "id": "Gv8gAn0aCfC5",
        "colab_type": "code",
        "colab": {
          "base_uri": "https://localhost:8080/",
          "height": 34
        },
        "outputId": "4d83cc82-7297-40de-adfb-68a40c5a00d8"
      },
      "source": [
        "def largestdigit(n):\n",
        "    prev=0\n",
        "    new=0\n",
        "    while n!=0:\n",
        "      prev=new\n",
        "      new=n%10\n",
        "      if prev>new:\n",
        "        new=prev\n",
        "      n=n//10\n",
        "    return new\n",
        "largestdigit(19354)      \n"
      ],
      "execution_count": 50,
      "outputs": [
        {
          "output_type": "execute_result",
          "data": {
            "text/plain": [
              "9"
            ]
          },
          "metadata": {
            "tags": []
          },
          "execution_count": 50
        }
      ]
    },
    {
      "cell_type": "markdown",
      "metadata": {
        "id": "OzB63XC1Ispj",
        "colab_type": "text"
      },
      "source": [
        "# for loop\n",
        "# syntax:\n",
        "# for in range(start,stop,step):\n",
        "#        statements"
      ]
    },
    {
      "cell_type": "code",
      "metadata": {
        "id": "uFy4JcWPIwEz",
        "colab_type": "code",
        "colab": {}
      },
      "source": [
        "# syntax:\n",
        "for in range(start,stop,step):"
      ],
      "execution_count": 0,
      "outputs": []
    },
    {
      "cell_type": "code",
      "metadata": {
        "id": "5AyM5TpvJGt-",
        "colab_type": "code",
        "colab": {
          "base_uri": "https://localhost:8080/",
          "height": 34
        },
        "outputId": "c3736a39-5921-4f4a-9489-d023745e2c1b"
      },
      "source": [
        "# print the numbers between limits\n",
        "#input :11 25\n",
        "#output :11,12,13,14,15,16......24,25\n",
        "def printseries(fn,ln):\n",
        "  for i in range(fn,ln+1):\n",
        "    print(i,end=\" \")\n",
        "  return\n",
        "printseries(11,25)\n"
      ],
      "execution_count": 51,
      "outputs": [
        {
          "output_type": "stream",
          "text": [
            "11 12 13 14 15 16 17 18 19 20 21 22 23 24 25 "
          ],
          "name": "stdout"
        }
      ]
    },
    {
      "cell_type": "code",
      "metadata": {
        "id": "6a-wu-6iKwZa",
        "colab_type": "code",
        "colab": {
          "base_uri": "https://localhost:8080/",
          "height": 34
        },
        "outputId": "c646f49d-8810-4e23-e28e-5c3db3af7049"
      },
      "source": [
        "def printseries(fn,ln):\n",
        "    for i in range(fn,ln+1,4):\n",
        "        print(i,end=\" \")\n",
        "    return\n",
        "printseries(500,520)"
      ],
      "execution_count": 62,
      "outputs": [
        {
          "output_type": "stream",
          "text": [
            "500 504 508 512 516 520 "
          ],
          "name": "stdout"
        }
      ]
    },
    {
      "cell_type": "markdown",
      "metadata": {
        "id": "NfypcH7YMmOQ",
        "colab_type": "text"
      },
      "source": [
        "# COLLECTION TYPES\n",
        "- list\n",
        "- tuple\n",
        "- dictionary"
      ]
    },
    {
      "cell_type": "markdown",
      "metadata": {
        "id": "mGwyBZUjMxmG",
        "colab_type": "text"
      },
      "source": [
        "# LIST\n",
        "- one of the data structure in python\n",
        "- Data structure means to store,sort and search options\n",
        "- It's one column data structure in python,the items of list separated by comma and enclosed by square brackets\n",
        "- list was IMMUTABLE(i.e,values can change) or in list we can change values\n",
        "- ex:\n",
        "- list1=[1,2,3,4,5]\n",
        "- list=[\"JNTUA\",\"DASD\",\"asds\"]"
      ]
    },
    {
      "cell_type": "code",
      "metadata": {
        "id": "nyKNOh5zOqEH",
        "colab_type": "code",
        "colab": {
          "base_uri": "https://localhost:8080/",
          "height": 170
        },
        "outputId": "03998abc-28b2-4c10-965d-3283dc304eb9"
      },
      "source": [
        "li = [1,2,3,4,5]\n",
        "print(li)\n",
        "print(li[2])\n",
        "print(li[-4])\n",
        "print(li[2:])\n",
        "print(li[-4:])\n",
        "print(li[2:4])\n",
        "print(li[-4:-1])\n",
        "print(li[::4])\n",
        "print(li[::-3])"
      ],
      "execution_count": 80,
      "outputs": [
        {
          "output_type": "stream",
          "text": [
            "[1, 2, 3, 4, 5]\n",
            "3\n",
            "2\n",
            "[3, 4, 5]\n",
            "[2, 3, 4, 5]\n",
            "[3, 4]\n",
            "[2, 3, 4]\n",
            "[1, 5]\n",
            "[5, 2]\n"
          ],
          "name": "stdout"
        }
      ]
    },
    {
      "cell_type": "code",
      "metadata": {
        "id": "Vqvvv7vWbWag",
        "colab_type": "code",
        "colab": {
          "base_uri": "https://localhost:8080/",
          "height": 85
        },
        "outputId": "5973867a-fb6e-432c-c524-a62f51f2ab17"
      },
      "source": [
        "# update list\n",
        "li = [\"JNTUA\",8,\"ANTPR\",5,4]\n",
        "print(li)\n",
        "li[1]=\"154\"\n",
        "print(li)\n",
        "# delete list item\n",
        "del li[3]\n",
        "print(li)\n",
        "del li[2]\n",
        "print(li)"
      ],
      "execution_count": 84,
      "outputs": [
        {
          "output_type": "stream",
          "text": [
            "['JNTUA', 8, 'ANTPR', 5, 4]\n",
            "['JNTUA', '154', 'ANTPR', 5, 4]\n",
            "['JNTUA', '154', 'ANTPR', 4]\n",
            "['JNTUA', '154', 4]\n"
          ],
          "name": "stdout"
        }
      ]
    },
    {
      "cell_type": "code",
      "metadata": {
        "id": "BikrxqZWc_mZ",
        "colab_type": "code",
        "colab": {
          "base_uri": "https://localhost:8080/",
          "height": 85
        },
        "outputId": "9ce77412-5ce6-42b5-c433-0026fb00ffcf"
      },
      "source": [
        "# Basic list operations\n",
        "li=[1,2,3,4,5,6]\n",
        "print(len(li))\n",
        "print(li*2)\n",
        "print(4 in li)\n",
        "print(7 in li)"
      ],
      "execution_count": 88,
      "outputs": [
        {
          "output_type": "stream",
          "text": [
            "6\n",
            "[1, 2, 3, 4, 5, 6, 1, 2, 3, 4, 5, 6]\n",
            "True\n",
            "False\n"
          ],
          "name": "stdout"
        }
      ]
    },
    {
      "cell_type": "markdown",
      "metadata": {
        "id": "WI_p0Yhrd8Hh",
        "colab_type": "text"
      },
      "source": [
        "# list functions\n",
        "- max\n",
        "- min\n",
        "- sum\n",
        "- append\n",
        "- insert\n",
        "- count\n",
        "- index\n",
        "- sort\n",
        "- pop"
      ]
    },
    {
      "cell_type": "code",
      "metadata": {
        "id": "AsoA8JSUeUjD",
        "colab_type": "code",
        "colab": {
          "base_uri": "https://localhost:8080/",
          "height": 231
        },
        "outputId": "543ef117-ea0a-47bd-ca2e-462d1bbf0ebd"
      },
      "source": [
        "li = [1,2,3,4,5]\n",
        "print(max(li))\n",
        "print(min(li))\n",
        "print(sum(li))"
      ],
      "execution_count": 90,
      "outputs": [
        {
          "output_type": "stream",
          "text": [
            "5\n",
            "1\n"
          ],
          "name": "stdout"
        },
        {
          "output_type": "error",
          "ename": "TypeError",
          "evalue": "ignored",
          "traceback": [
            "\u001b[0;31m---------------------------------------------------------------------------\u001b[0m",
            "\u001b[0;31mTypeError\u001b[0m                                 Traceback (most recent call last)",
            "\u001b[0;32m<ipython-input-90-5585bf0fba92>\u001b[0m in \u001b[0;36m<module>\u001b[0;34m()\u001b[0m\n\u001b[1;32m      2\u001b[0m \u001b[0mprint\u001b[0m\u001b[0;34m(\u001b[0m\u001b[0mmax\u001b[0m\u001b[0;34m(\u001b[0m\u001b[0mli\u001b[0m\u001b[0;34m)\u001b[0m\u001b[0;34m)\u001b[0m\u001b[0;34m\u001b[0m\u001b[0;34m\u001b[0m\u001b[0m\n\u001b[1;32m      3\u001b[0m \u001b[0mprint\u001b[0m\u001b[0;34m(\u001b[0m\u001b[0mmin\u001b[0m\u001b[0;34m(\u001b[0m\u001b[0mli\u001b[0m\u001b[0;34m)\u001b[0m\u001b[0;34m)\u001b[0m\u001b[0;34m\u001b[0m\u001b[0;34m\u001b[0m\u001b[0m\n\u001b[0;32m----> 4\u001b[0;31m \u001b[0mprint\u001b[0m\u001b[0;34m(\u001b[0m\u001b[0msum\u001b[0m\u001b[0;34m(\u001b[0m\u001b[0mli\u001b[0m\u001b[0;34m)\u001b[0m\u001b[0;34m)\u001b[0m\u001b[0;34m\u001b[0m\u001b[0;34m\u001b[0m\u001b[0m\n\u001b[0m",
            "\u001b[0;31mTypeError\u001b[0m: 'int' object is not callable"
          ]
        }
      ]
    },
    {
      "cell_type": "code",
      "metadata": {
        "id": "cNHFcPtXf7pr",
        "colab_type": "code",
        "colab": {}
      },
      "source": [
        ""
      ],
      "execution_count": 0,
      "outputs": []
    }
  ]
}