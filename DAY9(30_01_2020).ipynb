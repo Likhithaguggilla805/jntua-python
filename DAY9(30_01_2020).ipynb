{
  "nbformat": 4,
  "nbformat_minor": 0,
  "metadata": {
    "colab": {
      "name": "DAY9(30-01-2020)",
      "provenance": [],
      "authorship_tag": "ABX9TyN4DbSXY9xEh3FZ9GfnIvbE",
      "include_colab_link": true
    },
    "kernelspec": {
      "name": "python3",
      "display_name": "Python 3"
    }
  },
  "cells": [
    {
      "cell_type": "markdown",
      "metadata": {
        "id": "view-in-github",
        "colab_type": "text"
      },
      "source": [
        "<a href=\"https://colab.research.google.com/github/Likhithaguggilla805/jntua-python/blob/master/DAY9(30_01_2020).ipynb\" target=\"_parent\"><img src=\"https://colab.research.google.com/assets/colab-badge.svg\" alt=\"Open In Colab\"/></a>"
      ]
    },
    {
      "cell_type": "code",
      "metadata": {
        "id": "FyvuHjee7jtY",
        "colab_type": "code",
        "colab": {}
      },
      "source": [
        ""
      ],
      "execution_count": 0,
      "outputs": []
    },
    {
      "cell_type": "markdown",
      "metadata": {
        "id": "B-4gNTgK9cFe",
        "colab_type": "text"
      },
      "source": [
        "# Markdown\n",
        "## markdown\n",
        "### Markdown\n",
        "#### Markdown\n"
      ]
    },
    {
      "cell_type": "markdown",
      "metadata": {
        "id": "DtU2w-8c-XU3",
        "colab_type": "text"
      },
      "source": [
        "**Points**\n",
        "\n",
        "*Points*\n",
        "\n",
        "***Points***"
      ]
    },
    {
      "cell_type": "markdown",
      "metadata": {
        "id": "kXu-RzbO_Qcm",
        "colab_type": "text"
      },
      "source": [
        ""
      ]
    },
    {
      "cell_type": "code",
      "metadata": {
        "id": "Urjxoj58IJ6g",
        "colab_type": "code",
        "colab": {
          "base_uri": "https://localhost:8080/",
          "height": 34
        },
        "outputId": "fad15cb0-a578-4472-9e4b-0a589c885747"
      },
      "source": [
        "print(\"hello , jntua\")\n",
        "print(\"hello, jntua\",)\n"
      ],
      "execution_count": 1,
      "outputs": [
        {
          "output_type": "stream",
          "text": [
            "hello , jntua\n"
          ],
          "name": "stdout"
        }
      ]
    },
    {
      "cell_type": "markdown",
      "metadata": {
        "id": "RbIl2Z1iIoyX",
        "colab_type": "text"
      },
      "source": [
        "# Assignment"
      ]
    },
    {
      "cell_type": "markdown",
      "metadata": {
        "id": "JlKH52xcIyYE",
        "colab_type": "text"
      },
      "source": [
        ""
      ]
    },
    {
      "cell_type": "code",
      "metadata": {
        "id": "bkn2s79qJBY7",
        "colab_type": "code",
        "colab": {
          "base_uri": "https://localhost:8080/",
          "height": 68
        },
        "outputId": "25e50e8c-3c35-4423-f08a-35b66f885a82"
      },
      "source": [
        "n1 = 100 # single variable assignment\n",
        "print(n1)\n",
        "a = b = c = 10 # multi variable assignment of same value\n",
        "print(a,b,c)\n",
        "a1,b1,c1 = 100,200,300 # multiple variable assignment with different values\n",
        "print(a1,b1,c1)"
      ],
      "execution_count": 6,
      "outputs": [
        {
          "output_type": "stream",
          "text": [
            "100\n",
            "10 10 10\n",
            "100 200 300\n"
          ],
          "name": "stdout"
        }
      ]
    },
    {
      "cell_type": "markdown",
      "metadata": {
        "id": "ep21TdI-KT2t",
        "colab_type": "text"
      },
      "source": [
        "# Data types and conversions\n",
        "* int\n",
        "* float\n",
        "* string"
      ]
    },
    {
      "cell_type": "code",
      "metadata": {
        "id": "e7P5i3fxKoZT",
        "colab_type": "code",
        "colab": {
          "base_uri": "https://localhost:8080/",
          "height": 34
        },
        "outputId": "53eb5180-e36c-434c-d272-9af6c5f7afa7"
      },
      "source": [
        "a = 100\n",
        "s1 = 10.2\n",
        "s2 = \"python\"\n",
        "print(type(a),type(s1),type(s2))"
      ],
      "execution_count": 7,
      "outputs": [
        {
          "output_type": "stream",
          "text": [
            "<class 'int'> <class 'float'> <class 'str'>\n"
          ],
          "name": "stdout"
        }
      ]
    },
    {
      "cell_type": "code",
      "metadata": {
        "id": "AmLizbwvLnM5",
        "colab_type": "code",
        "colab": {
          "base_uri": "https://localhost:8080/",
          "height": 68
        },
        "outputId": "d10d23a1-8fc0-4e6c-9b4c-dc0c3843f4d8"
      },
      "source": [
        "i = 100\n",
        "print(type(i))\n",
        "s1 = str(i)\n",
        "print(type(s1))\n",
        "f1 = float(i)\n",
        "print(type(f1))"
      ],
      "execution_count": 9,
      "outputs": [
        {
          "output_type": "stream",
          "text": [
            "<class 'int'>\n",
            "<class 'str'>\n",
            "<class 'float'>\n"
          ],
          "name": "stdout"
        }
      ]
    },
    {
      "cell_type": "code",
      "metadata": {
        "id": "xA6WPxBqMmwv",
        "colab_type": "code",
        "colab": {
          "base_uri": "https://localhost:8080/",
          "height": 34
        },
        "outputId": "c8145d64-3e7a-42f8-a90a-feaed4cfa7b7"
      },
      "source": [
        "# length\n",
        "a = 12345\n",
        "s1 = str(a)\n",
        "print(len(s1))"
      ],
      "execution_count": 11,
      "outputs": [
        {
          "output_type": "stream",
          "text": [
            "5\n"
          ],
          "name": "stdout"
        }
      ]
    },
    {
      "cell_type": "markdown",
      "metadata": {
        "id": "qF8x0ZDVNQy4",
        "colab_type": "text"
      },
      "source": [
        "Reading input from user using---input function"
      ]
    },
    {
      "cell_type": "code",
      "metadata": {
        "id": "lb37O5ZDNdFu",
        "colab_type": "code",
        "colab": {
          "base_uri": "https://localhost:8080/",
          "height": 68
        },
        "outputId": "977598a1-763d-4049-ab08-d5db282f3750"
      },
      "source": [
        "a = input(\"enter your name:\")\n",
        "print(a)\n",
        "print(type(a))"
      ],
      "execution_count": 13,
      "outputs": [
        {
          "output_type": "stream",
          "text": [
            "enter your name:LIKHITHA\n",
            "LIKHITHA\n",
            "<class 'str'>\n"
          ],
          "name": "stdout"
        }
      ]
    },
    {
      "cell_type": "code",
      "metadata": {
        "id": "4P33gVsjOdt_",
        "colab_type": "code",
        "colab": {
          "base_uri": "https://localhost:8080/",
          "height": 68
        },
        "outputId": "caa30503-a6b7-4fa7-b60b-7ea8d9990c19"
      },
      "source": [
        "B = int(input(\"enter your age:\"))\n",
        "print(B)\n",
        "print(type(B))"
      ],
      "execution_count": 14,
      "outputs": [
        {
          "output_type": "stream",
          "text": [
            "enter your age:19\n",
            "19\n",
            "<class 'int'>\n"
          ],
          "name": "stdout"
        }
      ]
    },
    {
      "cell_type": "markdown",
      "metadata": {
        "id": "XTXqF7EGO6Zm",
        "colab_type": "text"
      },
      "source": [
        "# Operators\n",
        "- Operator is a symbol used to perform a specific kind of operations"
      ]
    },
    {
      "cell_type": "markdown",
      "metadata": {
        "id": "8u7dB4cnPO2m",
        "colab_type": "text"
      },
      "source": [
        "# Arthimetic operators\n",
        "- +\n",
        "- -\n",
        "- *\n",
        "- /\n",
        "- %\n",
        "- //\n",
        "- ** (it means power of )"
      ]
    },
    {
      "cell_type": "code",
      "metadata": {
        "id": "LSSlIgGUPd8N",
        "colab_type": "code",
        "colab": {
          "base_uri": "https://localhost:8080/",
          "height": 136
        },
        "outputId": "163355da-8f11-40de-84eb-fd30d0041e63"
      },
      "source": [
        "a = 1234\n",
        "print(a+10)\n",
        "print(a-10)\n",
        "print(a*10)\n",
        "print(a/10)\n",
        "print(a%10)\n",
        "print(a//10)\n",
        "print(a**10)"
      ],
      "execution_count": 17,
      "outputs": [
        {
          "output_type": "stream",
          "text": [
            "1244\n",
            "1224\n",
            "12340\n",
            "123.4\n",
            "4\n",
            "123\n",
            "8187505353567209228244052427776\n"
          ],
          "name": "stdout"
        }
      ]
    },
    {
      "cell_type": "markdown",
      "metadata": {
        "id": "MJ69-3NiRwxR",
        "colab_type": "text"
      },
      "source": [
        "# Relational operator\n",
        "- =\n",
        "- ==\n",
        "- !=\n",
        "- <\n",
        "- >\n",
        "- <=\n",
        "- >="
      ]
    },
    {
      "cell_type": "code",
      "metadata": {
        "id": "YLViBVrNSRJy",
        "colab_type": "code",
        "colab": {
          "base_uri": "https://localhost:8080/",
          "height": 34
        },
        "outputId": "184c8e9e-e44e-4485-ab5b-03b68aea1a27"
      },
      "source": [
        "x = 10\n",
        "a1 = x > 15\n",
        "print(a1)"
      ],
      "execution_count": 18,
      "outputs": [
        {
          "output_type": "stream",
          "text": [
            "False\n"
          ],
          "name": "stdout"
        }
      ]
    },
    {
      "cell_type": "markdown",
      "metadata": {
        "id": "sHZTdEErS0r4",
        "colab_type": "text"
      },
      "source": [
        "# Logical operators\n",
        "- and\n",
        "- or\n",
        "- not"
      ]
    },
    {
      "cell_type": "code",
      "metadata": {
        "id": "7650F5RfTBxh",
        "colab_type": "code",
        "colab": {
          "base_uri": "https://localhost:8080/",
          "height": 68
        },
        "outputId": "cc7c7262-e886-4809-a75c-0668358b9593"
      },
      "source": [
        "i = 100\n",
        "a1 = (i>15) and (i<800)\n",
        "a2 = (i>50) or (i >800)\n",
        "i = not 100\n",
        "print(a1)\n",
        "print(a2)\n",
        "print(i)"
      ],
      "execution_count": 21,
      "outputs": [
        {
          "output_type": "stream",
          "text": [
            "True\n",
            "True\n",
            "False\n"
          ],
          "name": "stdout"
        }
      ]
    },
    {
      "cell_type": "markdown",
      "metadata": {
        "id": "r5zpYVjyUaXY",
        "colab_type": "text"
      },
      "source": [
        "# Control flow statements\n",
        "- conditional statements\n",
        "- looping statements"
      ]
    },
    {
      "cell_type": "markdown",
      "metadata": {
        "id": "shPiii0BU3uJ",
        "colab_type": "text"
      },
      "source": [
        "# if else statement\n",
        "## syntax\n",
        "# if boolean_condition:\n",
        "# statements\n",
        "# else:\n",
        "# statements"
      ]
    },
    {
      "cell_type": "code",
      "metadata": {
        "id": "kauLRHPHVUAd",
        "colab_type": "code",
        "colab": {
          "base_uri": "https://localhost:8080/",
          "height": 51
        },
        "outputId": "7cf19891-6f08-4daf-cd9d-10a4f01bcb45"
      },
      "source": [
        "# to check given number is even or odd\n",
        "n = int(input(\"enter a number\"))\n",
        "if n%2==0:\n",
        "  print(n,\"is even\")\n",
        "else:\n",
        "  print(n,\"is odd\")"
      ],
      "execution_count": 24,
      "outputs": [
        {
          "output_type": "stream",
          "text": [
            "enter a number24\n",
            "24 is even\n"
          ],
          "name": "stdout"
        }
      ]
    },
    {
      "cell_type": "code",
      "metadata": {
        "id": "h8pbtBp8Wsuf",
        "colab_type": "code",
        "colab": {
          "base_uri": "https://localhost:8080/",
          "height": 51
        },
        "outputId": "3f4e36cf-bdfc-41a3-b4dd-afe8552a11d8"
      },
      "source": [
        "# to check given number is perfect multiples of 3 and 5\n",
        "n = int(input(\"enter a number\"))\n",
        "if n%3==0 and n%5==0:\n",
        "  print(n,\"is perfect multiple of 3 and 5\")\n",
        "else:\n",
        "  print(n,\"is not perfect multiple of 3 and 5\")\n"
      ],
      "execution_count": 28,
      "outputs": [
        {
          "output_type": "stream",
          "text": [
            "enter a number24\n",
            "24 is not perfect multiple of 3 and 5\n"
          ],
          "name": "stdout"
        }
      ]
    },
    {
      "cell_type": "code",
      "metadata": {
        "id": "nq7foHA3ZVlC",
        "colab_type": "code",
        "colab": {
          "base_uri": "https://localhost:8080/",
          "height": 51
        },
        "outputId": "edfb2022-20ed-43c5-e903-5c76479f240f"
      },
      "source": [
        "# to check given number is positive ornegative or 0\n",
        "n = int(input(\"enter a number\"))\n",
        "if n>0:\n",
        "  print(n,\"is positive\")\n",
        "elif n<0:\n",
        "  print(n,\"is negative\")\n",
        "else:\n",
        "  print(n,\"is zero\")  "
      ],
      "execution_count": 29,
      "outputs": [
        {
          "output_type": "stream",
          "text": [
            "enter a number5\n",
            "5 is positive\n"
          ],
          "name": "stdout"
        }
      ]
    },
    {
      "cell_type": "code",
      "metadata": {
        "id": "e1ipytMpZ-Wz",
        "colab_type": "code",
        "colab": {
          "base_uri": "https://localhost:8080/",
          "height": 85
        },
        "outputId": "bb195d0b-fd52-4923-ecf7-7cda335931e3"
      },
      "source": [
        "# to check largest of 3 numbers\n",
        "a1 = int(input(\"enter 1st numbers\"))\n",
        "a2 = int(input(\"enter 2nd number\"))\n",
        "a3 = int(input(\"enter 3rd number\"))\n",
        "if a1>a2 and a1>a3:\n",
        "  print(a1,\"is largest\")\n",
        "elif a2>a3:\n",
        "  print(a2,\"is largest\")\n",
        "else:\n",
        "  print(a3,\"is largest2\")  "
      ],
      "execution_count": 31,
      "outputs": [
        {
          "output_type": "stream",
          "text": [
            "enter 1st numbers6\n",
            "enter 2nd number8\n",
            "enter 3rd number2\n",
            "8 is largest\n"
          ],
          "name": "stdout"
        }
      ]
    },
    {
      "cell_type": "code",
      "metadata": {
        "id": "roYhhrzzdGjl",
        "colab_type": "code",
        "colab": {
          "base_uri": "https://localhost:8080/",
          "height": 51
        },
        "outputId": "09e4f981-4785-41c3-88e1-eec9600f6589"
      },
      "source": [
        "# to find leap year\n",
        "n = int(input(\"enter year:\"))\n",
        "if n%4 == 0 and n%100 !=0:\n",
        "  print(n,\"is leap year\")\n",
        "else:\n",
        "  print(n,\"is not leap year\")  \n",
        "  "
      ],
      "execution_count": 35,
      "outputs": [
        {
          "output_type": "stream",
          "text": [
            "enter year:2000\n",
            "2000 is not leap year\n"
          ],
          "name": "stdout"
        }
      ]
    }
  ]
}